{
  "nbformat": 4,
  "nbformat_minor": 0,
  "metadata": {
    "colab": {
      "provenance": []
    },
    "kernelspec": {
      "name": "python3",
      "display_name": "Python 3"
    },
    "language_info": {
      "name": "python"
    }
  },
  "cells": [
    {
      "cell_type": "markdown",
      "source": [
        "#  Statistical Hypothesis Testing\n",
        "\n",
        "## **Introduction**\n",
        "This projetc explores four fundamental statistical tests through practical problem-solving scenarios. You'll analyze relationships between categorical variables, compare group means, and evaluate teaching method effectiveness using appropriate statistical methods.\n",
        "\n",
        "## **Objective**\n",
        "By completing this lab, you will:\n",
        "1. Identify the correct statistical test for different research scenarios\n",
        "2. Formulate null and alternative hypotheses\n",
        "3. Execute tests using Python's SciPy library\n",
        "4. Interpret p-values and effect sizes\n",
        "5. Visualize results for better communication\n",
        "\n",
        "## **Tests Covered**\n",
        "- Chi-square test of independence\n",
        "- One-sample t-test\n",
        "- Independent two-sample t-test\n",
        "- One-way ANOVA with post-hoc tests\n",
        "\n",
        "## **Dataset Overview**\n",
        "All problems use synthetic datasets representing:\n",
        "- Smartphone brand preferences by gender\n",
        "- Website response times\n",
        "- Student scores under different teaching methods\n",
        "\n",
        "\n"
      ],
      "metadata": {
        "id": "VFjFrKIW_eP1"
      }
    },
    {
      "cell_type": "markdown",
      "source": [
        "##1. Statement:\n",
        "Investigate whether there is a relationship between gender (Male/Female) and smartphone brand preference (Samsung, Apple, Other) among a sample of users. Conduct a test to determine if there is a significant association between gender and smartphone brand preference."
      ],
      "metadata": {
        "id": "jhmfF3rKAOkW"
      }
    },
    {
      "cell_type": "code",
      "source": [
        "# Import libraries\n",
        "import numpy as np\n",
        "from scipy.stats import chi2_contingency\n",
        "import pandas as pd\n"
      ],
      "metadata": {
        "id": "pPc3UvxUCGxM"
      },
      "execution_count": null,
      "outputs": []
    },
    {
      "cell_type": "code",
      "execution_count": null,
      "metadata": {
        "id": "_jj-3T7j_Xeb",
        "outputId": "6526b1a0-e263-4ee3-b229-63e56675c514",
        "colab": {
          "base_uri": "https://localhost:8080/"
        }
      },
      "outputs": [
        {
          "output_type": "execute_result",
          "data": {
            "text/plain": [
              "array([[30, 20, 15],\n",
              "       [25, 35, 10]])"
            ]
          },
          "metadata": {},
          "execution_count": 3
        }
      ],
      "source": [
        "# Data\n",
        "observed_data = np.array([[30, 20, 15], [25, 35, 10]])  # Example frequencies, rows represent gender, columns represent smartphone brand\n",
        "observed_data"
      ]
    },
    {
      "cell_type": "code",
      "source": [
        "# Data\n",
        "import pandas as pd\n",
        "import numpy as np\n",
        "\n",
        "observed_data = np.array([[30, 20, 15], [25, 35, 10]])\n",
        "\n",
        "# Convert the array to a DataFrame\n",
        "df = pd.DataFrame(observed_data, index=['Male', 'Female'], columns=['Brand A', 'Brand B', 'Brand C'])\n",
        "\n",
        "# Display the DataFrame as a table\n",
        "print(df)"
      ],
      "metadata": {
        "id": "J25aKHrwsqZJ",
        "outputId": "15d4cb29-4b94-4356-8f15-976edc06d30a",
        "colab": {
          "base_uri": "https://localhost:8080/"
        }
      },
      "execution_count": null,
      "outputs": [
        {
          "output_type": "stream",
          "name": "stdout",
          "text": [
            "        Brand A  Brand B  Brand C\n",
            "Male         30       20       15\n",
            "Female       25       35       10\n"
          ]
        }
      ]
    },
    {
      "cell_type": "code",
      "source": [],
      "metadata": {
        "id": "VsDo8MaqZNXa"
      },
      "execution_count": null,
      "outputs": []
    },
    {
      "cell_type": "markdown",
      "source": [
        "* chi2 test of independenceto to check whether there is a statistical significant association between 2 categorical variables.<BR>\n",
        "1. IV - gender\n",
        "2. DV - Brand preferences\n",
        "\n",
        "H0: There is no relationship betweem gender and smartphone brands.<BR>\n",
        "H1: There is some association between gender and brands."
      ],
      "metadata": {
        "id": "BbRhr3aYTXld"
      }
    },
    {
      "cell_type": "code",
      "source": [
        "# chi2\n",
        "\n",
        "from scipy.stats import chi2_contingency\n",
        "\n",
        "chi2, p, dof, expected = chi2_contingency(observed_data)\n",
        "print(f\"Chi-square statistic: {chi2:.3f}\")\n",
        "print(f\"p-value: {p:.4f}\")"
      ],
      "metadata": {
        "id": "mYeAOHTqTVWN",
        "outputId": "70b85a16-0511-4402-af56-5f72c0bf524f",
        "colab": {
          "base_uri": "https://localhost:8080/"
        }
      },
      "execution_count": null,
      "outputs": [
        {
          "output_type": "stream",
          "name": "stdout",
          "text": [
            "Chi-square statistic: 5.368\n",
            "p-value: 0.0683\n"
          ]
        }
      ]
    },
    {
      "cell_type": "markdown",
      "source": [
        "There is no statistically significant association between gender and brand preference at the 5% level."
      ],
      "metadata": {
        "id": "ie07Db7BVkrT"
      }
    },
    {
      "cell_type": "markdown",
      "source": [
        "##2. Statement:\n",
        "Analyze the average response time (continuous) of two versions of a website feature. Conduct a test to determine if the average response time of Version A is significantly different from the expected average response time."
      ],
      "metadata": {
        "id": "XV243WkLCUKO"
      }
    },
    {
      "cell_type": "code",
      "source": [
        "# Import libraries\n",
        "import numpy as np\n",
        "from scipy import stats"
      ],
      "metadata": {
        "id": "BOIdTmCuCahT"
      },
      "execution_count": null,
      "outputs": []
    },
    {
      "cell_type": "code",
      "execution_count": null,
      "metadata": {
        "id": "lfcvTl9uCahU"
      },
      "outputs": [],
      "source": [
        "# Data\n",
        "response_times_version_a = np.array([0.25, 0.28, 0.24, 0.26, 0.27])\n",
        "expected_average_time = 0.3  # hypothetical value"
      ]
    },
    {
      "cell_type": "markdown",
      "source": [
        "* One sample t-test to test if sample mean is statistically different from expected mean.<BR>\n",
        "\n",
        "IV: <BR>\n",
        "DV: Response time of version A (?IV: resp. time;  DV: average resp. time)<BR>\n",
        "H0: μ = 0.3<BR>\n",
        "H1: μ ≠ 0.3<BR>\n"
      ],
      "metadata": {
        "id": "cH9eSVM8YQ8s"
      }
    },
    {
      "cell_type": "code",
      "source": [
        "# assuming normality\n",
        "\n",
        "t_stat, p_value = stats.ttest_1samp(response_times_version_a, popmean=expected_average_time)\n",
        "\n",
        "# Output results\n",
        "print(f\"Mean response time: {response_times_version_a.mean():.4f} sec\")\n",
        "print(f\"Expected mean: {expected_average_time} sec\")\n",
        "print(f\"t-statistic: {t_stat:.4f}\")\n",
        "print(f\"p-value: {p_value:.4f}\")"
      ],
      "metadata": {
        "id": "gTjErzGYYRYD",
        "outputId": "28902619-df89-4e28-c112-03b08d208325",
        "colab": {
          "base_uri": "https://localhost:8080/"
        }
      },
      "execution_count": null,
      "outputs": [
        {
          "output_type": "stream",
          "name": "stdout",
          "text": [
            "Mean response time: 0.2600 sec\n",
            "Expected mean: 0.3 sec\n",
            "t-statistic: -5.6569\n",
            "p-value: 0.0048\n"
          ]
        }
      ]
    },
    {
      "cell_type": "markdown",
      "source": [
        "There is strong evidence that the true mean response time of Version A differs from 0.3 seconds."
      ],
      "metadata": {
        "id": "J0leap_Rao6C"
      }
    },
    {
      "cell_type": "code",
      "source": [
        "# not sure if thats true effect\n",
        "\n",
        "effect_size = (response_times_version_a.mean() - expected_average_time) / response_times_version_a.std()\n",
        "print(f\"Cohen's d: {effect_size:.3f}\")"
      ],
      "metadata": {
        "id": "o0cvcrZCYRrE",
        "outputId": "8a5ad044-9e95-4c0b-d194-3d24419a5f60",
        "colab": {
          "base_uri": "https://localhost:8080/"
        }
      },
      "execution_count": null,
      "outputs": [
        {
          "output_type": "stream",
          "name": "stdout",
          "text": [
            "Cohen's d: -2.828\n"
          ]
        }
      ]
    },
    {
      "cell_type": "markdown",
      "source": [
        "almost 3 std is large difference with small sample size may exaggerate the effect."
      ],
      "metadata": {
        "id": "tzCBav2Ih9ZT"
      }
    },
    {
      "cell_type": "code",
      "source": [
        "# assuming non parametric\n",
        "\n",
        "from scipy.stats import wilcoxon\n",
        "\n",
        "\n",
        "stat, p_value = wilcoxon(response_times_version_a - expected_average_time)\n",
        "\n",
        "print(f\"Wilcoxon statistic: {stat}\")\n",
        "print(f\"p-value: {p_value}\")\n"
      ],
      "metadata": {
        "id": "vGqhJpNLYRzL",
        "outputId": "063da3eb-1f44-475d-d705-a29e3e303379",
        "colab": {
          "base_uri": "https://localhost:8080/"
        }
      },
      "execution_count": null,
      "outputs": [
        {
          "output_type": "stream",
          "name": "stdout",
          "text": [
            "Wilcoxon statistic: 0.0\n",
            "p-value: 0.0625\n"
          ]
        }
      ]
    },
    {
      "cell_type": "markdown",
      "source": [
        "##3.  Statement:\n",
        "Two datasets representing the scores of two groups of students (Group A and Group B) who underwent different teaching methods. Perform a test to determine if there is a significant difference in the mean scores of the two groups."
      ],
      "metadata": {
        "id": "KLmLg4MXCjk3"
      }
    },
    {
      "cell_type": "code",
      "source": [
        "# Import libraries\n",
        "import numpy as np\n",
        "from scipy.stats import ttest_ind, levene\n",
        "from scipy import stats"
      ],
      "metadata": {
        "id": "svJg_uRyDlXX"
      },
      "execution_count": null,
      "outputs": []
    },
    {
      "cell_type": "code",
      "execution_count": null,
      "metadata": {
        "id": "_Mlh645NDlXd"
      },
      "outputs": [],
      "source": [
        "# Data\n",
        "group_a_scores = np.array([85, 88, 92, 78, 95, 89, 91])\n",
        "group_b_scores = np.array([76, 80, 82, 79, 88, 85, 87])"
      ]
    },
    {
      "cell_type": "markdown",
      "source": [
        "Independent 2-sample t-test to check wether the mean scores of 2 groups are significantly different.<BR>\n",
        "\n",
        "IV: Teaching methods <BR>\n",
        "DV: student scores<BR>\n",
        "\n",
        "H0: μA = μB<BR>\n",
        "H1: μA ≠ μB"
      ],
      "metadata": {
        "id": "aPTFYxhwinDw"
      }
    },
    {
      "cell_type": "code",
      "source": [
        "print(stats.shapiro(group_a_scores))\n",
        "print(stats.shapiro(group_b_scores))"
      ],
      "metadata": {
        "id": "tD0Ti-e8ink2",
        "outputId": "c01a2305-ab95-4d25-dd3d-b4e15467b3d1",
        "colab": {
          "base_uri": "https://localhost:8080/"
        }
      },
      "execution_count": null,
      "outputs": [
        {
          "output_type": "stream",
          "name": "stdout",
          "text": [
            "ShapiroResult(statistic=np.float64(0.9409086860128948), pvalue=np.float64(0.6469179608370381))\n",
            "ShapiroResult(statistic=np.float64(0.9557901203299246), pvalue=np.float64(0.7819089424946486))\n"
          ]
        }
      ]
    },
    {
      "cell_type": "code",
      "source": [],
      "metadata": {
        "id": "f1XgLPaNrYcu"
      },
      "execution_count": null,
      "outputs": []
    },
    {
      "cell_type": "code",
      "source": [
        "\n",
        "\n",
        "# Two-sample t-test\n",
        "t_stat, p_value = ttest_ind(group_a_scores, group_b_scores, equal_var=equal_var)\n",
        "\n",
        "print(f\"Group A mean: {np.mean(group_a_scores):.2f}\")\n",
        "print(f\"Group B mean: {np.mean(group_b_scores):.2f}\")\n",
        "print(f\"t-statistic: {t_stat:.4f}\")\n",
        "print(f\"p-value: {p_value:.4f}\")"
      ],
      "metadata": {
        "id": "yM0-8PXoin1x",
        "outputId": "d1f86767-b181-4bfa-e0ed-fe5487ea8a85",
        "colab": {
          "base_uri": "https://localhost:8080/"
        }
      },
      "execution_count": null,
      "outputs": [
        {
          "output_type": "stream",
          "name": "stdout",
          "text": [
            "Group A mean: 88.29\n",
            "Group B mean: 82.43\n",
            "t-statistic: 2.1874\n",
            "p-value: 0.0492\n"
          ]
        }
      ]
    },
    {
      "cell_type": "code",
      "source": [
        "pooled_std = np.sqrt(((len(group_a_scores)-1)*group_a_scores.std(ddof=1)**2 +\n",
        "                   ((len(group_b_scores)-1)*group_b_scores.std(ddof=1)**2) )/\n",
        "                   (len(group_a_scores)+len(group_b_scores)-2))\n",
        "d = (group_a_scores.mean() - group_b_scores.mean()) / pooled_std\n",
        "print(f\"Cohen's d = {d:.3f}\")"
      ],
      "metadata": {
        "id": "uDN1TRq6in45",
        "outputId": "651043ff-8a2c-45f7-fea7-f4aaa6d2d516",
        "colab": {
          "base_uri": "https://localhost:8080/"
        }
      },
      "execution_count": null,
      "outputs": [
        {
          "output_type": "stream",
          "name": "stdout",
          "text": [
            "Cohen's d = 1.169\n"
          ]
        }
      ]
    },
    {
      "cell_type": "code",
      "source": [
        "import matplotlib.pyplot as plt\n",
        "\n",
        "plt.boxplot([group_a_scores, group_b_scores], labels=[\"Group A\", \"Group B\"])\n",
        "plt.title(\"Student Scores by Teaching Method\")\n",
        "plt.ylabel(\"Score\")\n",
        "plt.grid(True)\n",
        "plt.show()\n"
      ],
      "metadata": {
        "id": "NRzeGuJOmeOQ",
        "outputId": "f5c2f75e-b1b5-4ce4-bcfe-bdce29af3cc8",
        "colab": {
          "base_uri": "https://localhost:8080/",
          "height": 487
        }
      },
      "execution_count": null,
      "outputs": [
        {
          "output_type": "stream",
          "name": "stderr",
          "text": [
            "<ipython-input-27-0d3579cde52d>:3: MatplotlibDeprecationWarning: The 'labels' parameter of boxplot() has been renamed 'tick_labels' since Matplotlib 3.9; support for the old name will be dropped in 3.11.\n",
            "  plt.boxplot([group_a_scores, group_b_scores], labels=[\"Group A\", \"Group B\"])\n"
          ]
        },
        {
          "output_type": "display_data",
          "data": {
            "text/plain": [
              "<Figure size 640x480 with 1 Axes>"
            ],
            "image/png": "[encoded data removed]"
          },
          "metadata": {}
        }
      ]
    },
    {
      "cell_type": "markdown",
      "source": [
        "##4. Statement:\n",
        "There are test scores from three different teaching methods (Method A, Method B, Method C). Conduct a one-way ANOVA to determine if there is a significant difference in the mean scores among the three teaching methods."
      ],
      "metadata": {
        "id": "tQ4CsW01DzSJ"
      }
    },
    {
      "cell_type": "code",
      "source": [
        "# Import libraries\n",
        "import numpy as np\n",
        "from scipy.stats import f_oneway\n",
        "from scipy import stats"
      ],
      "metadata": {
        "id": "JGZWxN0ID-Ot"
      },
      "execution_count": null,
      "outputs": []
    },
    {
      "cell_type": "code",
      "execution_count": null,
      "metadata": {
        "id": "DVZ1d7eLD-Ou"
      },
      "outputs": [],
      "source": [
        "# Data\n",
        "method_a_scores = np.array([80, 85, 88, 82, 87])\n",
        "method_b_scores = np.array([75, 78, 80, 72, 79])\n",
        "method_c_scores = np.array([88, 92, 85, 90, 89])"
      ]
    },
    {
      "cell_type": "code",
      "source": [
        "print(f\"Method A normality p-value: {stats.shapiro(method_a_scores).pvalue:.4f}\")\n",
        "print(f\"Method B normality p-value: {stats.shapiro(method_b_scores).pvalue:.4f}\")\n",
        "print(f\"Method C normality p-value: {stats.shapiro(method_c_scores).pvalue:.4f}\")"
      ],
      "metadata": {
        "id": "7RHGY1oymdWQ",
        "outputId": "5b88419d-c5c9-4e1a-f210-7ee5a42caf02",
        "colab": {
          "base_uri": "https://localhost:8080/"
        }
      },
      "execution_count": null,
      "outputs": [
        {
          "output_type": "stream",
          "name": "stdout",
          "text": [
            "Method A normality p-value: 0.6774\n",
            "Method B normality p-value: 0.5443\n",
            "Method C normality p-value: 0.9546\n"
          ]
        }
      ]
    },
    {
      "cell_type": "code",
      "source": [
        "# Homogeneity of variance\n",
        "print(f\"Levene's test p-value: {stats.levene(method_a_scores, method_b_scores, method_c_scores).pvalue:.4f}\")"
      ],
      "metadata": {
        "id": "5sTN838TrZqW",
        "outputId": "21a7412e-fa8d-44b8-b625-6d23b3f8736b",
        "colab": {
          "base_uri": "https://localhost:8080/"
        }
      },
      "execution_count": null,
      "outputs": [
        {
          "output_type": "stream",
          "name": "stdout",
          "text": [
            "Levene's test p-value: 0.7979\n"
          ]
        }
      ]
    },
    {
      "cell_type": "markdown",
      "source": [
        "if P_value(0.7979) > 0.05 fail to reject N0 :Variances are equal across groups."
      ],
      "metadata": {
        "id": "ia5MpLmV0aMU"
      }
    },
    {
      "cell_type": "code",
      "source": [
        "# one way anova\n",
        "f_stat, p_value = stats.f_oneway(method_a_scores, method_b_scores, method_c_scores)\n",
        "print(f\"F-statistic: {f_stat:.3f}, p-value: {p_value:.6f}\")"
      ],
      "metadata": {
        "id": "N8DX7mRhrZtN",
        "outputId": "a418f0c9-7ccb-4a7b-8389-d1e4be390703",
        "colab": {
          "base_uri": "https://localhost:8080/"
        }
      },
      "execution_count": null,
      "outputs": [
        {
          "output_type": "stream",
          "name": "stdout",
          "text": [
            "F-statistic: 19.261, p-value: 0.000180\n"
          ]
        }
      ]
    },
    {
      "cell_type": "markdown",
      "source": [
        "There is enough evidence to reject the null hypothesis and conclude that there is a significant difference in the mean scores among the three teaching methods."
      ],
      "metadata": {
        "id": "n0zn_gz-r_te"
      }
    },
    {
      "cell_type": "code",
      "source": [
        "def eta_squared(ss_between, ss_total):\n",
        "    return ss_between / ss_total\n",
        "\n",
        "grand_mean = np.concatenate([method_a_scores, method_b_scores, method_c_scores]).mean()\n",
        "ss_between = sum(len(group) * (group.mean() - grand_mean)**2 for group in [method_a_scores, method_b_scores, method_c_scores])\n",
        "ss_total = sum((x - grand_mean)**2 for group in [method_a_scores, method_b_scores, method_c_scores] for x in group)\n",
        "\n",
        "eta_sq = eta_squared(ss_between, ss_total)\n",
        "print(f\"Eta squared: {eta_sq:.3f}\")"
      ],
      "metadata": {
        "id": "kJwKzUzRrZwF",
        "outputId": "fd2f41e8-3ab7-4e34-e99d-cb14032557fb",
        "colab": {
          "base_uri": "https://localhost:8080/"
        }
      },
      "execution_count": null,
      "outputs": [
        {
          "output_type": "stream",
          "name": "stdout",
          "text": [
            "Eta squared: 0.762\n"
          ]
        }
      ]
    },
    {
      "cell_type": "markdown",
      "source": [
        "teaching method has a very strong impact on test scores."
      ],
      "metadata": {
        "id": "CGlGQn73vmud"
      }
    },
    {
      "cell_type": "code",
      "source": [
        "# pairwise comparison\n",
        "\n",
        "from statsmodels.stats.multicomp import pairwise_tukeyhsd\n",
        "\n",
        "all_scores = np.concatenate([method_a_scores, method_b_scores, method_c_scores])\n",
        "groups = np.array(['A']*5 + ['B']*5 + ['C']*5)\n",
        "\n",
        "tukey = pairwise_tukeyhsd(all_scores, groups, alpha=0.05)\n",
        "print(tukey)"
      ],
      "metadata": {
        "id": "VJlpVCmirZyr",
        "outputId": "6042cea9-2921-48fc-a7a6-00cb94dc96fe",
        "colab": {
          "base_uri": "https://localhost:8080/"
        }
      },
      "execution_count": null,
      "outputs": [
        {
          "output_type": "stream",
          "name": "stdout",
          "text": [
            " Multiple Comparison of Means - Tukey HSD, FWER=0.05 \n",
            "=====================================================\n",
            "group1 group2 meandiff p-adj   lower    upper  reject\n",
            "-----------------------------------------------------\n",
            "     A      B     -7.6 0.0057 -12.8188 -2.3812   True\n",
            "     A      C      4.4 0.1028  -0.8188  9.6188  False\n",
            "     B      C     12.0 0.0001   6.7812 17.2188   True\n",
            "-----------------------------------------------------\n"
          ]
        }
      ]
    },
    {
      "cell_type": "code",
      "source": [],
      "metadata": {
        "id": "eiDiDeV7rZ1S"
      },
      "execution_count": null,
      "outputs": []
    }
  ]
}